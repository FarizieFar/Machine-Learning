{
  "cells": [
    {
      "cell_type": "markdown",
      "metadata": {
        "id": "view-in-github",
        "colab_type": "text"
      },
      "source": [
        "<a href=\"https://colab.research.google.com/github/FarizieFar/Machine-Learning/blob/main/Jobsheet10_ML.ipynb\" target=\"_parent\"><img src=\"https://colab.research.google.com/assets/colab-badge.svg\" alt=\"Open In Colab\"/></a>"
      ]
    },
    {
      "cell_type": "code",
      "execution_count": null,
      "metadata": {
        "id": "XGJgfArYGh7z"
      },
      "outputs": [],
      "source": [
        "import numpy as np\n",
        "import tensorflow_datasets as tfds\n",
        "import tensorflow as tf\n",
        "\n",
        "tfds.disable_progress_bar()"
      ]
    },
    {
      "cell_type": "code",
      "execution_count": null,
      "metadata": {
        "id": "IEl39HAdGwth"
      },
      "outputs": [],
      "source": [
        "import matplotlib.pyplot as plt\n",
        "\n",
        "def plot_graphs(history, metric):\n",
        "    plt.plot(history.history[metric])\n",
        "    plt.plot(history.history['val_'+metric], '')\n",
        "    plt.xlabel(\"Epochs\")\n",
        "    plt.ylabel(metric)\n",
        "    plt.legend([metric, 'val_'+metric])\n"
      ]
    },
    {
      "cell_type": "code",
      "execution_count": null,
      "metadata": {
        "colab": {
          "base_uri": "https://localhost:8080/"
        },
        "id": "MxfnsKVeHfjn",
        "outputId": "b02de99b-8ba3-4406-9292-1786ad826a1a"
      },
      "outputs": [
        {
          "name": "stdout",
          "output_type": "stream",
          "text": [
            "Downloading and preparing dataset 80.23 MiB (download: 80.23 MiB, generated: Unknown size, total: 80.23 MiB) to /root/tensorflow_datasets/imdb_reviews/plain_text/1.0.0...\n",
            "Dataset imdb_reviews downloaded and prepared to /root/tensorflow_datasets/imdb_reviews/plain_text/1.0.0. Subsequent calls will reuse this data.\n"
          ]
        },
        {
          "data": {
            "text/plain": [
              "(TensorSpec(shape=(), dtype=tf.string, name=None),\n",
              " TensorSpec(shape=(), dtype=tf.int64, name=None))"
            ]
          },
          "execution_count": 3,
          "metadata": {},
          "output_type": "execute_result"
        }
      ],
      "source": [
        "dataset, info = tfds.load('imdb_reviews', with_info=True,\n",
        "                          as_supervised=True)\n",
        "train_dataset, test_dataset = dataset['train'], dataset['test']\n",
        "\n",
        "train_dataset.element_spec"
      ]
    },
    {
      "cell_type": "code",
      "execution_count": null,
      "metadata": {
        "colab": {
          "base_uri": "https://localhost:8080/"
        },
        "id": "ifEPMkTqIJoe",
        "outputId": "f8a81268-62e4-4b65-b9bc-b05cb1a31d14"
      },
      "outputs": [
        {
          "name": "stdout",
          "output_type": "stream",
          "text": [
            "text:  b\"This was an absolutely terrible movie. Don't be lured in by Christopher Walken or Michael Ironside. Both are great actors, but this must simply be their worst role in history. Even their great acting could not redeem this movie's ridiculous storyline. This movie is an early nineties US propaganda piece. The most pathetic scenes were those when the Columbian rebels were making their cases for revolutions. Maria Conchita Alonso appeared phony, and her pseudo-love affair with Walken was nothing but a pathetic emotional plug in a movie that was devoid of any real meaning. I am disappointed that there are movies like this, ruining actor's like Christopher Walken's good name. I could barely sit through it.\"\n",
            "label:  0\n"
          ]
        }
      ],
      "source": [
        "for example, label in train_dataset.take(1):\n",
        "  print('text: ', example.numpy())\n",
        "  print('label: ', label.numpy())"
      ]
    },
    {
      "cell_type": "code",
      "execution_count": null,
      "metadata": {
        "colab": {
          "base_uri": "https://localhost:8080/"
        },
        "id": "q0LNYn91IMyA",
        "outputId": "e991a314-3834-423d-9d31-f41d4003f3a4"
      },
      "outputs": [
        {
          "name": "stdout",
          "output_type": "stream",
          "text": [
            "texts:  [b\"Dripping with symbolism and filled with marvelous cinematography, Extase is so much more than the erotic drama we've all come to expect. This is almost a silent film, with what dialogue there is in German, and highly simplified German at that. Perhaps the filmmakers intended the film to reach the widest possible European audience, as anyone with even a little high school level Deutsch can easily dispense with the subtitles. The story is of little importance anyway, with the film succeeding on a cinematic level, not a narrative one. Symbols of fecundity and the power of nature overwhelm the human characters--there are even scenes where flowers obscure the face of supposed star Hedy Lamarr--and there are moments here that will remind viewers of the works of Dreyer, Vertov, and Riefenstahl. If the film has any message to convey, I think it's a political one: bourgeois man is timid and impotent; working class man is a happy, productive creature; and woman is the creator, destined to be unfulfilled until she has borne a child. This blend of Soviet socialist realism and National Socialist dogma doesn't overwhelm the film by any means--it's a beauty to watch from beginning to end--but it does place it in a very distinct artistic era. And, oh yeah, Hedy does get her kit off.\"\n",
            " b'I\\'ll keep this short; thanks to Greg for helping me to put this succinctly: Captivity is about a guy who drugs a girl\\'s drink, imprisons and tortures her, then poses as a captive to have sex with her. That is the single twist and punchline of the film. It\\'s torture as slow motion date rape. And, it\\'s not even a good movie. It\\'s not so bad it\\'s good; it\\'s just bad.<br /><br />It should also be mentioned that among critics, there is a \"spoiler code\" that they dare not break, even though some were tempted to on this one because it is so vile. Why NO ONE had the cojones to step up and say, \"this is garbage, and this is why,\" is beyond me.<br /><br />Don\\'t give your money to these poop-peddlers.'\n",
            " b\"I read nothing but good things about this movie and finally had a chance to watch it late last night and it was everything I expected it to be and more.This is the way a proper horror movie should be.I think the reason it was so scary was because it was so realistic. The spooky sounding score was perfect for setting a dark mood.I liked the dramatic opening scene and enjoyed how the rest of the movie played out.It was very easy to follow and understand unlike some movies which are way too complicated.The special effects were very good.I would love to see more horror movies like this one.This is easily one of my favorite's.A realistic thunder and lightning storm would have set a nice atmosphere for this movie.Other then that it had all the elements a good horror movie needs.I highly recommend this movie to anyone who can appreciate a good scary movie that pulls no punches.I will be adding it to my collection.The DVD has some interesting special features.\"]\n",
            "\n",
            "labels:  [1 0 1]\n"
          ]
        }
      ],
      "source": [
        "BUFFER_SIZE = 10000\n",
        "BATCH_SIZE = 64\n",
        "\n",
        "train_dataset = train_dataset.shuffle(BUFFER_SIZE).batch(BATCH_SIZE).prefetch(tf.data.AUTOTUNE)\n",
        "test_dataset = test_dataset.batch(BATCH_SIZE).prefetch(tf.data.AUTOTUNE)\n",
        "\n",
        "for example, label in train_dataset.take(1):\n",
        "  print('texts: ', example.numpy()[:3])\n",
        "  print()\n",
        "  print('labels: ', label.numpy()[:3])\n"
      ]
    },
    {
      "cell_type": "code",
      "execution_count": null,
      "metadata": {
        "id": "vqRjsUnkIQa6"
      },
      "outputs": [],
      "source": [
        "VOCAB_SIZE = 1000\n",
        "encoder = tf.keras.layers.TextVectorization(\n",
        "    max_tokens=VOCAB_SIZE)\n",
        "encoder.adapt(train_dataset.map(lambda text, label: text))"
      ]
    },
    {
      "cell_type": "code",
      "execution_count": null,
      "metadata": {
        "colab": {
          "base_uri": "https://localhost:8080/"
        },
        "id": "CPzBvkuuIVNm",
        "outputId": "f457fcbb-e2be-448f-f609-b3af3485ad80"
      },
      "outputs": [
        {
          "data": {
            "text/plain": [
              "array(['', '[UNK]', 'the', 'and', 'a', 'of', 'to', 'is', 'in', 'it', 'i',\n",
              "       'this', 'that', 'br', 'was', 'as', 'for', 'with', 'movie', 'but'],\n",
              "      dtype='<U14')"
            ]
          },
          "execution_count": 7,
          "metadata": {},
          "output_type": "execute_result"
        }
      ],
      "source": [
        "vocab = np.array(encoder.get_vocabulary())\n",
        "vocab[:20]"
      ]
    },
    {
      "cell_type": "code",
      "execution_count": null,
      "metadata": {
        "colab": {
          "base_uri": "https://localhost:8080/"
        },
        "id": "7nIOVVtRIiC-",
        "outputId": "5162b527-6bab-44e9-d506-72b39dd7c063"
      },
      "outputs": [
        {
          "data": {
            "text/plain": [
              "array([[  1,  17,   1, ...,   0,   0,   0],\n",
              "       [527, 382,  11, ...,   0,   0,   0],\n",
              "       [ 10, 321, 158, ...,   0,   0,   0]])"
            ]
          },
          "execution_count": 8,
          "metadata": {},
          "output_type": "execute_result"
        }
      ],
      "source": [
        "encoded_example = encoder(example)[:3].numpy()\n",
        "encoded_example"
      ]
    },
    {
      "cell_type": "code",
      "execution_count": null,
      "metadata": {
        "colab": {
          "base_uri": "https://localhost:8080/"
        },
        "id": "Zzp9tDncImK-",
        "outputId": "92610e56-ca14-446a-b036-567aa8f4d371"
      },
      "outputs": [
        {
          "name": "stdout",
          "output_type": "stream",
          "text": [
            "Original:  b\"Dripping with symbolism and filled with marvelous cinematography, Extase is so much more than the erotic drama we've all come to expect. This is almost a silent film, with what dialogue there is in German, and highly simplified German at that. Perhaps the filmmakers intended the film to reach the widest possible European audience, as anyone with even a little high school level Deutsch can easily dispense with the subtitles. The story is of little importance anyway, with the film succeeding on a cinematic level, not a narrative one. Symbols of fecundity and the power of nature overwhelm the human characters--there are even scenes where flowers obscure the face of supposed star Hedy Lamarr--and there are moments here that will remind viewers of the works of Dreyer, Vertov, and Riefenstahl. If the film has any message to convey, I think it's a political one: bourgeois man is timid and impotent; working class man is a happy, productive creature; and woman is the creator, destined to be unfulfilled until she has borne a child. This blend of Soviet socialist realism and National Socialist dogma doesn't overwhelm the film by any means--it's a beauty to watch from beginning to end--but it does place it in a very distinct artistic era. And, oh yeah, Hedy does get her kit off.\"\n",
            "Round-trip:  [UNK] with [UNK] and [UNK] with [UNK] cinematography [UNK] is so much more than the [UNK] drama [UNK] all come to expect this is almost a [UNK] film with what dialogue there is in [UNK] and highly [UNK] [UNK] at that perhaps the filmmakers [UNK] the film to [UNK] the [UNK] possible [UNK] audience as anyone with even a little high school level [UNK] can easily [UNK] with the [UNK] the story is of little [UNK] anyway with the film [UNK] on a [UNK] level not a [UNK] one [UNK] of [UNK] and the power of nature [UNK] the human [UNK] are even scenes where [UNK] [UNK] the face of supposed star [UNK] [UNK] there are moments here that will [UNK] viewers of the works of [UNK] [UNK] and [UNK] if the film has any message to [UNK] i think its a political one [UNK] man is [UNK] and [UNK] working class man is a happy [UNK] [UNK] and woman is the [UNK] [UNK] to be [UNK] until she has [UNK] a child this [UNK] of [UNK] [UNK] [UNK] and [UNK] [UNK] [UNK] doesnt [UNK] the film by any [UNK] a beauty to watch from beginning to [UNK] it does place it in a very [UNK] [UNK] [UNK] and oh [UNK] [UNK] does get her [UNK] off                                                                                                                                                                                                                                                                                                                                                                                                                                                                                                                                                                                                                                                                                                                                                                                                   \n",
            "\n",
            "Original:  b'I\\'ll keep this short; thanks to Greg for helping me to put this succinctly: Captivity is about a guy who drugs a girl\\'s drink, imprisons and tortures her, then poses as a captive to have sex with her. That is the single twist and punchline of the film. It\\'s torture as slow motion date rape. And, it\\'s not even a good movie. It\\'s not so bad it\\'s good; it\\'s just bad.<br /><br />It should also be mentioned that among critics, there is a \"spoiler code\" that they dare not break, even though some were tempted to on this one because it is so vile. Why NO ONE had the cojones to step up and say, \"this is garbage, and this is why,\" is beyond me.<br /><br />Don\\'t give your money to these poop-peddlers.'\n",
            "Round-trip:  ill keep this short [UNK] to [UNK] for [UNK] me to put this [UNK] [UNK] is about a guy who [UNK] a girls [UNK] [UNK] and [UNK] her then [UNK] as a [UNK] to have sex with her that is the single twist and [UNK] of the film its [UNK] as slow [UNK] [UNK] [UNK] and its not even a good movie its not so bad its good its just [UNK] br it should also be [UNK] that among [UNK] there is a [UNK] [UNK] that they [UNK] not [UNK] even though some were [UNK] to on this one because it is so [UNK] why no one had the [UNK] to [UNK] up and say this is [UNK] and this is why is beyond [UNK] br dont give your money to these [UNK]                                                                                                                                                                                                                                                                                                                                                                                                                                                                                                                                                                                                                                                                                                                                                                                                                                                                                       \n",
            "\n",
            "Original:  b\"I read nothing but good things about this movie and finally had a chance to watch it late last night and it was everything I expected it to be and more.This is the way a proper horror movie should be.I think the reason it was so scary was because it was so realistic. The spooky sounding score was perfect for setting a dark mood.I liked the dramatic opening scene and enjoyed how the rest of the movie played out.It was very easy to follow and understand unlike some movies which are way too complicated.The special effects were very good.I would love to see more horror movies like this one.This is easily one of my favorite's.A realistic thunder and lightning storm would have set a nice atmosphere for this movie.Other then that it had all the elements a good horror movie needs.I highly recommend this movie to anyone who can appreciate a good scary movie that pulls no punches.I will be adding it to my collection.The DVD has some interesting special features.\"\n",
            "Round-trip:  i read nothing but good things about this movie and finally had a chance to watch it late last night and it was everything i expected it to be and [UNK] is the way a [UNK] horror movie should [UNK] think the reason it was so scary was because it was so realistic the [UNK] [UNK] score was perfect for setting a dark [UNK] liked the dramatic opening scene and enjoyed how the rest of the movie played [UNK] was very easy to follow and understand unlike some movies which are way too [UNK] special effects were very [UNK] would love to see more horror movies like this [UNK] is easily one of my [UNK] realistic [UNK] and [UNK] [UNK] would have set a nice atmosphere for this [UNK] then that it had all the elements a good horror movie [UNK] highly recommend this movie to anyone who can [UNK] a good scary movie that [UNK] no [UNK] will be [UNK] it to my [UNK] dvd has some interesting special features                                                                                                                                                                                                                                                                                                                                                                                                                                                                                                                                                                                                                                                                                                                                                                                                                                                 \n",
            "\n"
          ]
        }
      ],
      "source": [
        "for n in range(3):\n",
        "  print(\"Original: \", example[n].numpy())\n",
        "  print(\"Round-trip: \", \" \".join(vocab[encoded_example[n]]))\n",
        "  print()"
      ]
    },
    {
      "cell_type": "code",
      "execution_count": null,
      "metadata": {
        "id": "Cz2PjmJbIpA_"
      },
      "outputs": [],
      "source": [
        "model = tf.keras.Sequential([\n",
        "    encoder,\n",
        "    tf.keras.layers.Embedding(\n",
        "        input_dim=len(encoder.get_vocabulary()),\n",
        "        output_dim=64,\n",
        "        # Use masking to handle the variable sequence lengths\n",
        "        mask_zero=True),\n",
        "    tf.keras.layers.Bidirectional(tf.keras.layers.LSTM(64)),\n",
        "    tf.keras.layers.Dense(64, activation='relu'),\n",
        "    tf.keras.layers.Dense(1)\n",
        "])"
      ]
    },
    {
      "cell_type": "code",
      "execution_count": null,
      "metadata": {
        "colab": {
          "base_uri": "https://localhost:8080/"
        },
        "id": "m_5AaxCqItgC",
        "outputId": "8c0524d2-efd8-47cd-8153-0f2020c1766b"
      },
      "outputs": [
        {
          "name": "stdout",
          "output_type": "stream",
          "text": [
            "[False, True, True, True, True]\n"
          ]
        }
      ],
      "source": [
        "print([layer.supports_masking for layer in model.layers])"
      ]
    },
    {
      "cell_type": "code",
      "execution_count": null,
      "metadata": {
        "colab": {
          "base_uri": "https://localhost:8080/"
        },
        "id": "XLYqb0HzI2Uc",
        "outputId": "480dd61d-f2ae-473d-d340-45c2c41be7a8"
      },
      "outputs": [
        {
          "name": "stdout",
          "output_type": "stream",
          "text": [
            "1/1 [==============================] - 3s 3s/step\n",
            "[0.01037288]\n"
          ]
        }
      ],
      "source": [
        "# predict on a sample text without padding.\n",
        "\n",
        "sample_text = ('The movie was cool. The animation and the graphics '\n",
        "               'were out of this world. I would recommend this movie.')\n",
        "predictions = model.predict(np.array([sample_text]))\n",
        "print(predictions[0])"
      ]
    },
    {
      "cell_type": "code",
      "execution_count": null,
      "metadata": {
        "colab": {
          "base_uri": "https://localhost:8080/"
        },
        "id": "U79hzV9KI5v8",
        "outputId": "c8b5ef9a-543c-4b0b-81d9-c52ad0e34a29"
      },
      "outputs": [
        {
          "name": "stdout",
          "output_type": "stream",
          "text": [
            "1/1 [==============================] - 0s 310ms/step\n",
            "[0.01037288]\n"
          ]
        }
      ],
      "source": [
        "# predict on a sample text with padding\n",
        "\n",
        "padding = \"the \" * 2000\n",
        "predictions = model.predict(np.array([sample_text, padding]))\n",
        "print(predictions[0])"
      ]
    },
    {
      "cell_type": "code",
      "execution_count": null,
      "metadata": {
        "id": "Dr4j0mslI9dL"
      },
      "outputs": [],
      "source": [
        "model.compile(loss=tf.keras.losses.BinaryCrossentropy(from_logits=True),\n",
        "              optimizer=tf.keras.optimizers.Adam(1e-4),\n",
        "              metrics=['accuracy'])"
      ]
    },
    {
      "cell_type": "code",
      "execution_count": null,
      "metadata": {
        "colab": {
          "background_save": true,
          "base_uri": "https://localhost:8080/"
        },
        "id": "PoJOS1foJBc8",
        "outputId": "1e42f20f-30fe-40bc-ee10-6d57845705a5"
      },
      "outputs": [
        {
          "name": "stdout",
          "output_type": "stream",
          "text": [
            "Epoch 1/10\n",
            "391/391 [==============================] - 650s 2s/step - loss: 0.6399 - accuracy: 0.5678 - val_loss: 0.4833 - val_accuracy: 0.7734\n",
            "Epoch 2/10\n",
            "391/391 [==============================] - 639s 2s/step - loss: 0.3944 - accuracy: 0.8173 - val_loss: 0.3497 - val_accuracy: 0.8448\n",
            "Epoch 3/10\n",
            "391/391 [==============================] - 638s 2s/step - loss: 0.3349 - accuracy: 0.8538 - val_loss: 0.3370 - val_accuracy: 0.8406\n",
            "Epoch 4/10\n",
            "391/391 [==============================] - 601s 2s/step - loss: 0.3196 - accuracy: 0.8610 - val_loss: 0.3403 - val_accuracy: 0.8422\n",
            "Epoch 5/10\n",
            "391/391 [==============================] - 599s 2s/step - loss: 0.3128 - accuracy: 0.8637 - val_loss: 0.3260 - val_accuracy: 0.8599\n",
            "Epoch 6/10\n",
            "391/391 [==============================] - 608s 2s/step - loss: 0.3131 - accuracy: 0.8624 - val_loss: 0.3227 - val_accuracy: 0.8495\n",
            "Epoch 7/10\n",
            "391/391 [==============================] - 596s 2s/step - loss: 0.3070 - accuracy: 0.8677 - val_loss: 0.3179 - val_accuracy: 0.8568\n",
            "Epoch 8/10\n",
            "391/391 [==============================] - 597s 2s/step - loss: 0.3022 - accuracy: 0.8696 - val_loss: 0.3248 - val_accuracy: 0.8630\n",
            "Epoch 9/10\n",
            "233/391 [================>.............] - ETA: 3:55 - loss: 0.3006 - accuracy: 0.8708"
          ]
        }
      ],
      "source": [
        "history = model.fit(train_dataset, epochs=10,\n",
        "                   validation_data=test_dataset,\n",
        "                   validation_steps=30)"
      ]
    },
    {
      "cell_type": "code",
      "execution_count": null,
      "metadata": {
        "colab": {
          "base_uri": "https://localhost:8080/"
        },
        "id": "SlRj2OXDOXaN",
        "outputId": "5e23535f-6845-4d3b-9429-8c34580eb411"
      },
      "outputs": [
        {
          "name": "stdout",
          "output_type": "stream",
          "text": [
            "391/391 [==============================] - 167s 428ms/step - loss: 0.3223 - accuracy: 0.8515\n",
            "Test Loss: 0.32228884100914\n",
            "Test Accuracy: 0.8514800071716309\n"
          ]
        }
      ],
      "source": [
        "test_loss, test_acc = model.evaluate(test_dataset)\n",
        "\n",
        "print('Test Loss:', test_loss)\n",
        "print('Test Accuracy:', test_acc)"
      ]
    },
    {
      "cell_type": "code",
      "execution_count": null,
      "metadata": {
        "colab": {
          "base_uri": "https://localhost:8080/",
          "height": 683
        },
        "id": "IiZwGmdOPCLv",
        "outputId": "714d3d22-2be7-414c-b68a-d48eefadfdf0"
      },
      "outputs": [
        {
          "data": {
            "text/plain": [
              "(0.0, 0.6684149205684662)"
            ]
          },
          "execution_count": 17,
          "metadata": {},
          "output_type": "execute_result"
        },
        {
          "data": {
            "image/png": "[encoded data removed]",
            "text/plain": [
              "<Figure size 1600x800 with 2 Axes>"
            ]
          },
          "metadata": {},
          "output_type": "display_data"
        }
      ],
      "source": [
        "plt.figure(figsize=(16, 8))\n",
        "plt.subplot(1, 2, 1)\n",
        "plot_graphs(history, 'accuracy')\n",
        "plt.ylim(None, 1)\n",
        "plt.subplot(1, 2, 2)\n",
        "plot_graphs(history, 'loss')\n",
        "plt.ylim(0, None)"
      ]
    },
    {
      "cell_type": "code",
      "execution_count": null,
      "metadata": {
        "colab": {
          "base_uri": "https://localhost:8080/"
        },
        "id": "5PpbCTE5PHau",
        "outputId": "7bfb6c7f-1b43-466e-fb4b-1deb5ed56061"
      },
      "outputs": [
        {
          "name": "stdout",
          "output_type": "stream",
          "text": [
            "1/1 [==============================] - 4s 4s/step\n"
          ]
        }
      ],
      "source": [
        "sample_text = ('The movie was cool. The animation and the graphics '\n",
        "               'were out of this world. I would recommend this movie.')\n",
        "predictions = model.predict(np.array([sample_text]))"
      ]
    },
    {
      "cell_type": "markdown",
      "metadata": {
        "id": "W4pdIo2yPSGZ"
      },
      "source": [
        "**Stack two or more LSTM layers**"
      ]
    },
    {
      "cell_type": "code",
      "execution_count": null,
      "metadata": {
        "id": "9u3XcNZaPNxj"
      },
      "outputs": [],
      "source": [
        "model = tf.keras.Sequential([\n",
        "encoder,\n",
        "      tf.keras.layers.Embedding(len(encoder.get_vocabulary()), 64, mask_zero=True),\n",
        "      tf.keras.layers.Bidirectional(tf.keras.layers.LSTM(64,  return_sequences=True)),\n",
        "      tf.keras.layers.Bidirectional(tf.keras.layers.LSTM(32)),\n",
        "      tf.keras.layers.Dense(64, activation='relu'),\n",
        "      tf.keras.layers.Dropout(0.5),\n",
        "      tf.keras.layers.Dense(1)\n",
        "])"
      ]
    },
    {
      "cell_type": "code",
      "execution_count": null,
      "metadata": {
        "id": "rGBTUIISPrtX"
      },
      "outputs": [],
      "source": [
        "model.compile(loss=tf.keras.losses.BinaryCrossentropy(from_logits=True),\n",
        "              optimizer=tf.keras.optimizers.Adam(1e-4),\n",
        "              metrics=['accuracy'])"
      ]
    },
    {
      "cell_type": "code",
      "execution_count": null,
      "metadata": {
        "colab": {
          "base_uri": "https://localhost:8080/"
        },
        "id": "G7J2UUqxP0EV",
        "outputId": "bae18126-6c97-4a5e-d299-c5a1c4df20be"
      },
      "outputs": [
        {
          "name": "stdout",
          "output_type": "stream",
          "text": [
            "Epoch 1/10\n",
            "391/391 [==============================] - 1495s 4s/step - loss: 0.6427 - accuracy: 0.5606 - val_loss: 0.4721 - val_accuracy: 0.7958\n",
            "Epoch 2/10\n",
            "391/391 [==============================] - 1370s 4s/step - loss: 0.3985 - accuracy: 0.8248 - val_loss: 0.3837 - val_accuracy: 0.7979\n",
            "Epoch 3/10\n",
            "391/391 [==============================] - 1342s 3s/step - loss: 0.3413 - accuracy: 0.8530 - val_loss: 0.3377 - val_accuracy: 0.8526\n",
            "Epoch 4/10\n",
            "391/391 [==============================] - 1343s 3s/step - loss: 0.3224 - accuracy: 0.8629 - val_loss: 0.3330 - val_accuracy: 0.8573\n",
            "Epoch 5/10\n",
            "391/391 [==============================] - 1312s 3s/step - loss: 0.3124 - accuracy: 0.8671 - val_loss: 0.3218 - val_accuracy: 0.8536\n",
            "Epoch 6/10\n",
            "  5/391 [..............................] - ETA: 23:19 - loss: 0.3067 - accuracy: 0.8750"
          ]
        }
      ],
      "source": [
        "history = model.fit(train_dataset, epochs=10,\n",
        "                    validation_data=test_dataset,\n",
        "                    validation_steps=30)"
      ]
    }
  ],
  "metadata": {
    "colab": {
      "provenance": [],
      "authorship_tag": "ABX9TyNz9rmkqQ234IKFM+/lJBMa",
      "include_colab_link": true
    },
    "kernelspec": {
      "display_name": "Python 3",
      "name": "python3"
    },
    "language_info": {
      "name": "python"
    }
  },
  "nbformat": 4,
  "nbformat_minor": 0
}